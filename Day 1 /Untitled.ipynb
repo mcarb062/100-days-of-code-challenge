{
 "cells": [
  {
   "cell_type": "markdown",
   "id": "cc906eb0",
   "metadata": {},
   "source": [
    "Maria Celeste Carbonell"
   ]
  },
  {
   "cell_type": "markdown",
   "id": "651a2062",
   "metadata": {},
   "source": [
    "# Printing, Commenting, Debugging, String Manipulation, and Variables"
   ]
  },
  {
   "cell_type": "markdown",
   "id": "76f893fc",
   "metadata": {},
   "source": [
    "Project today is to create a band name generator program. First asks for a few questions to personalize the answers. I decided to change the theme of it and Im gonna try to make a new theorem name generator.\n",
    "\n",
    "The project is presented to do in Replit, which is a new tool for me so I will provide some of the steps here:\n",
    "- created a Replit account, which it can be linked to your GitHub already to save all the practice code in your account for reference later. \n",
    "\n",
    "Below Im gonna write my practice code examples done today."
   ]
  },
  {
   "cell_type": "markdown",
   "id": "fe716b56",
   "metadata": {},
   "source": [
    "## Printing"
   ]
  },
  {
   "cell_type": "code",
   "execution_count": 3,
   "id": "db9b175f",
   "metadata": {},
   "outputs": [
    {
     "name": "stdout",
     "output_type": "stream",
     "text": [
      "Hello Humans\n"
     ]
    }
   ],
   "source": [
    "print(\"Hello Humans\")"
   ]
  },
  {
   "cell_type": "code",
   "execution_count": 4,
   "id": "d1d22576",
   "metadata": {},
   "outputs": [
    {
     "name": "stdout",
     "output_type": "stream",
     "text": [
      "Day 1 - Python Print Function\n",
      "The function is declared like this:\n",
      "print('what to print')\n"
     ]
    }
   ],
   "source": [
    "print(\"Day 1 - Python Print Function\")\n",
    "print(\"The function is declared like this:\")\n",
    "print(\"print('what to print')\")"
   ]
  },
  {
   "cell_type": "markdown",
   "id": "72fe4351",
   "metadata": {},
   "source": [
    "The takeaway from the above code in the last line is that whenever we want to use quotations inside a quotation is useful to use double quotation for one and single for the other. The computer reads both the same but by doing this it will distinguish where each one begins and ends. "
   ]
  },
  {
   "cell_type": "markdown",
   "id": "97f9684c",
   "metadata": {},
   "source": [
    " "
   ]
  },
  {
   "cell_type": "markdown",
   "id": "177d0b5e",
   "metadata": {},
   "source": [
    "## String Manipulation\n",
    "\n",
    "If we want to print things on individual lines, above we used the method of writing the function 'print()' for each line. There is another method where we can use '\\n' to create a new line."
   ]
  },
  {
   "cell_type": "code",
   "execution_count": 7,
   "id": "640cb8bc",
   "metadata": {},
   "outputs": [
    {
     "name": "stdout",
     "output_type": "stream",
     "text": [
      "Hello humans\n",
      "Hello animals\n"
     ]
    }
   ],
   "source": [
    "print('Hello humans\\nHello animals')"
   ]
  },
  {
   "cell_type": "markdown",
   "id": "3b395b5b",
   "metadata": {},
   "source": [
    "We can also combine different strings by concatenating them, for example:"
   ]
  },
  {
   "cell_type": "code",
   "execution_count": 8,
   "id": "579736ac",
   "metadata": {},
   "outputs": [
    {
     "name": "stdout",
     "output_type": "stream",
     "text": [
      "hi Celeste\n"
     ]
    }
   ],
   "source": [
    "print('hi'+' Celeste') #add spaces as needed"
   ]
  },
  {
   "cell_type": "markdown",
   "id": "57117eb1",
   "metadata": {},
   "source": [
    "## Input Function"
   ]
  },
  {
   "cell_type": "code",
   "execution_count": 2,
   "id": "7b45be63",
   "metadata": {},
   "outputs": [
    {
     "name": "stdout",
     "output_type": "stream",
     "text": [
      "what is your name? Celeste\n"
     ]
    },
    {
     "data": {
      "text/plain": [
       "'Celeste'"
      ]
     },
     "execution_count": 2,
     "metadata": {},
     "output_type": "execute_result"
    }
   ],
   "source": [
    "input(\"what is your name? \")"
   ]
  },
  {
   "cell_type": "markdown",
   "id": "98e061bc",
   "metadata": {},
   "source": [
    "Input function looks like the print function but instead inside we add a prompt for the user to answer (a hint of what kind of data we want).\n",
    "With this information given by the user we can use it."
   ]
  },
  {
   "cell_type": "code",
   "execution_count": 6,
   "id": "131936a1",
   "metadata": {},
   "outputs": [
    {
     "name": "stdout",
     "output_type": "stream",
     "text": [
      "what is your name? Celeste\n",
      "Hello Celeste\n"
     ]
    }
   ],
   "source": [
    "print(\"Hello \" + input(\"what is your name? \"))"
   ]
  },
  {
   "cell_type": "markdown",
   "id": "7f2b90ec",
   "metadata": {},
   "source": [
    "### Challenge: \n",
    "\n",
    "Create a program that counts the number of characters in any user's name and that name is gonna be an input from the user. Then comes a function that calculates the length of that string and outputs a number."
   ]
  },
  {
   "cell_type": "code",
   "execution_count": 8,
   "id": "e84c8187",
   "metadata": {},
   "outputs": [
    {
     "name": "stdout",
     "output_type": "stream",
     "text": [
      "What's your username?blueskycele\n",
      "11\n"
     ]
    }
   ],
   "source": [
    "print(len(input(\"What's your username? \")))"
   ]
  },
  {
   "cell_type": "markdown",
   "id": "f18e9093",
   "metadata": {},
   "source": [
    " "
   ]
  },
  {
   "cell_type": "markdown",
   "id": "80c5408c",
   "metadata": {},
   "source": [
    "## Python Variables\n",
    "\n",
    "We can create a new variable from an input provided by the user like this:"
   ]
  },
  {
   "cell_type": "code",
   "execution_count": 9,
   "id": "4ce168e8",
   "metadata": {},
   "outputs": [
    {
     "name": "stdout",
     "output_type": "stream",
     "text": [
      "What is your username? blueskycele\n",
      "blueskycele\n"
     ]
    }
   ],
   "source": [
    "username = input(\"What is your username? \")\n",
    "print(username)"
   ]
  },
  {
   "cell_type": "markdown",
   "id": "f9b9de01",
   "metadata": {},
   "source": [
    "### Challenge: \n",
    "Create a program that swithches the values stored in two different variables. "
   ]
  },
  {
   "cell_type": "code",
   "execution_count": 10,
   "id": "cedd8898",
   "metadata": {},
   "outputs": [
    {
     "name": "stdout",
     "output_type": "stream",
     "text": [
      "celeste: color\n",
      "arroz: comida\n",
      "celeste: comida\n",
      "arroz: color\n"
     ]
    }
   ],
   "source": [
    "a = input(\"celeste: \")\n",
    "b = input(\"arroz: \")\n",
    "\n",
    "#part that creates the logic to switch:\n",
    "c = a\n",
    "a = b\n",
    "b = c\n",
    "\n",
    "print(\"celeste: \"+ a)\n",
    "print(\"arroz: \"+ b)"
   ]
  },
  {
   "cell_type": "markdown",
   "id": "5eb772e2",
   "metadata": {},
   "source": [
    " "
   ]
  },
  {
   "cell_type": "markdown",
   "id": "8a197496",
   "metadata": {},
   "source": [
    "## Project for day 1 of the challenge:\n",
    "\n",
    "Create your name generator based on inputs from the user:"
   ]
  },
  {
   "cell_type": "code",
   "execution_count": 13,
   "id": "79ee6d61",
   "metadata": {},
   "outputs": [
    {
     "name": "stdout",
     "output_type": "stream",
     "text": [
      "Welcome to New Theorem Name Generator\n",
      "What is your favourite food? \n",
      "Pasta\n",
      "What is your favourite animal? \n",
      "Horse\n",
      "The name of your new theorem can be: PastaHorse\n"
     ]
    }
   ],
   "source": [
    "# Create a greeting for your program.\n",
    "print(\"Welcome to New Theorem Name Generator\")\n",
    "\n",
    "#2 Ask the user for some information.\n",
    "food = input(\"What is your favourite food? \\n\")\n",
    "animal = input(\"What is your favourite animal? \\n\")\n",
    "\n",
    "#Combine and show them their new theorem's possible name.\n",
    "print(\"The name of your new theorem can be: \" + food + animal)"
   ]
  },
  {
   "cell_type": "markdown",
   "id": "fb9321d4",
   "metadata": {},
   "source": [
    "\n",
    "And that's it for today's practice. \n",
    "I found it basic, but helpful and fun start :)"
   ]
  }
 ],
 "metadata": {
  "kernelspec": {
   "display_name": "Python 3 (ipykernel)",
   "language": "python",
   "name": "python3"
  },
  "language_info": {
   "codemirror_mode": {
    "name": "ipython",
    "version": 3
   },
   "file_extension": ".py",
   "mimetype": "text/x-python",
   "name": "python",
   "nbconvert_exporter": "python",
   "pygments_lexer": "ipython3",
   "version": "3.10.9"
  }
 },
 "nbformat": 4,
 "nbformat_minor": 5
}
